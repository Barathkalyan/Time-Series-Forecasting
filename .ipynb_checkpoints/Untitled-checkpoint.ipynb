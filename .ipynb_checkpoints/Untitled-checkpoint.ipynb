{
 "cells": [
  {
   "cell_type": "code",
   "execution_count": null,
   "id": "b4a40458-6416-4a96-86da-4cf4ac488ffc",
   "metadata": {},
   "outputs": [],
   "source": [
    "import warnings; \n",
    "warnings.simplefilter('ignore')\n",
    "\n",
    "!pip install pystan~=2.14\n",
    "!pip install prophet\n",
    "\n",
    "#Install necessary libraries\n",
    "import warnings\n",
    "import pandas as pd\n",
    "\n",
    "from prophet import Prophet\n",
    "import matplotlib.pyplot as plt\n",
    "\n",
    "warnings.simplefilter('ignore')\n",
    "\n",
    "# Load and view the dataset\n",
    "\n",
    "df = pd.read_csv('dataset.csv')\n",
    "print(df.head())\n",
    "print(df.describe())\n",
    "\n",
    "# Check the dataset\n",
    "\n",
    "df.dtypes\n",
    "df.head()\n",
    "\n",
    "# Convert 'Time Date' to a proper datetime format \n",
    "df['Year'] = df['Time Date'].apply(lambda x: str(x)[-4:])  \n",
    "df['Month'] = df['Time Date'].apply(lambda x: str(x)[-6:-4])  \n",
    "df['Day'] = df['Time Date'].apply(lambda x: str(x)[:-6])\n",
    "\n",
    "# Combine all to a proper YYYY-MM-DD Format and drop unnecessary columns\n",
    "df['ds'] = pd.to_datetime(df['Year'] + '-' + df['Month'] + '-' + df['Day'])\n",
    "df.drop(['Time Date', 'Product', 'Store', 'Year', 'Month', 'Day'], axis=1, inplace=True)\n",
    "df.columns = ['y', 'ds']\n",
    "\n",
    "# Initialise and fit the prophet model\n",
    "\n",
    "m = Prophet(interval_width=0.95, daily_seasonality=True)\n",
    "model = m.fit(df)\n",
    "\n",
    "# Make future predictions\n",
    "\n",
    "future = m.make_future_dataframe(periods=100,freq='D')\n",
    "forecast = m.predict(future)\n",
    "forecast.head()\n",
    "\n",
    "#Plotting the forecast\n",
    "plot1 = m.plot(forecast)\n",
    "plt2 = m.plot_components(forecast)\n",
    "\n",
    "# Actual vs Predicted Value plotting\n",
    "\n",
    "plt.plot(df[\"ds\"],df[\"y\"], label=\"Actual Values\",color=\"red\")\n",
    "plt.plot(forecast[\"ds\"],forecast[\"yhat\"],label=\"Predicted Values\",color=\"black\")\n",
    "plt.show()\n",
    "\n"
   ]
  },
  {
   "cell_type": "code",
   "execution_count": null,
   "id": "92c789df-b98c-45ac-8771-da18ec155d13",
   "metadata": {},
   "outputs": [],
   "source": []
  }
 ],
 "metadata": {
  "kernelspec": {
   "display_name": "Python 3 (ipykernel)",
   "language": "python",
   "name": "python3"
  },
  "language_info": {
   "codemirror_mode": {
    "name": "ipython",
    "version": 3
   },
   "file_extension": ".py",
   "mimetype": "text/x-python",
   "name": "python",
   "nbconvert_exporter": "python",
   "pygments_lexer": "ipython3",
   "version": "3.10.7"
  }
 },
 "nbformat": 4,
 "nbformat_minor": 5
}
